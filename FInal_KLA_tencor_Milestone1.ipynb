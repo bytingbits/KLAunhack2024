{
  "nbformat": 4,
  "nbformat_minor": 0,
  "metadata": {
    "colab": {
      "provenance": []
    },
    "kernelspec": {
      "name": "python3",
      "display_name": "Python 3"
    },
    "language_info": {
      "name": "python"
    }
  },
  "cells": [
    {
      "cell_type": "code",
      "execution_count": null,
      "metadata": {
        "id": "WF58I6TEj2Hw"
      },
      "outputs": [],
      "source": [
        "import pandas as pd\n",
        "path=\"/content/drive/MyDrive/KLATencorUnhack/Dataset-0/Dataset-0/1st/\"\n",
        "#df=pd.read_csv(path)\n",
        "careAreas = pd.read_csv(path+\"CareAreas.csv\", names=[\"ID\", \"Xmin\", \"Xmax\", \"Ymin\", \"Ymax\"])\n",
        "careAreas.drop(careAreas.columns[0], axis=1, inplace=True)\n",
        "#print(careAreas)\n",
        "\n",
        "metadata=pd.read_csv(path+\"metadata.csv\")\n",
        "#metadata.drop(metadata.columns[0], axis=1, inplace=True)\n",
        "#print(metadata)\n",
        "\n",
        "mainfield_size=float(metadata.iat[0,0])\n",
        "#print(mainfield_size)\n",
        "\n",
        "#subfield_sizes=[]\n",
        "subfield_sizes=metadata[\"Sub Field size\"]\n",
        "subfield_sizes=subfield_sizes.tolist()\n",
        "#print(subfield_sizes)\n"
      ]
    },
    {
      "cell_type": "markdown",
      "source": [
        "Finding mainfields"
      ],
      "metadata": {
        "id": "yvBJLiAsCaKV"
      }
    },
    {
      "cell_type": "code",
      "source": [
        "\"\"\"x1=careAreas.iat[0,0]\n",
        "x2=careAreas.iat[len(careAreas)-1,1]\n",
        "y1=careAreas.iat[0,2]\n",
        "y2=careAreas.iat[len(careAreas)-1,3]\n",
        "print(x1,x2,y1,y2)\"\"\"\n",
        "temp_x = careAreas[\"Xmin\"]\n",
        "temp_y = careAreas[\"Ymin\"]\n",
        "temp_xmax = temp_x + mainfield_size\n",
        "temp_ymax = temp_y + mainfield_size\n",
        "\n",
        "temp_x = temp_x.to_frame(name='Xmin')\n",
        "temp_y = temp_y.to_frame(name='Ymin')\n",
        "temp_xmax = temp_xmax.to_frame(name='Xmax')\n",
        "temp_ymax = temp_ymax.to_frame(name='Ymax')\n",
        "\n",
        "mainfields = pd.concat([temp_x, temp_xmax, temp_y, temp_ymax], axis=1)\n",
        "print(mainfields)\n",
        "mainfields.to_csv(path+'mainfields.csv', index=False)"
      ],
      "metadata": {
        "colab": {
          "base_uri": "https://localhost:8080/"
        },
        "id": "e0zWlyKQ9Duv",
        "outputId": "f119e994-6979-49c9-c8b0-f2ccd69c74ae"
      },
      "execution_count": null,
      "outputs": [
        {
          "output_type": "stream",
          "name": "stdout",
          "text": [
            "             Xmin          Xmax         Ymin         Ymax\n",
            "0     6040.444017   6150.444017  6765.762124  6875.762124\n",
            "1     6240.444017   6350.444017  6765.762124  6875.762124\n",
            "2     6440.444017   6550.444017  6765.762124  6875.762124\n",
            "3     6640.444017   6750.444017  6765.762124  6875.762124\n",
            "4     6840.444017   6950.444017  6765.762124  6875.762124\n",
            "..            ...           ...          ...          ...\n",
            "164  38840.444020  38950.444020  6765.762124  6875.762124\n",
            "165  39040.444020  39150.444020  6765.762124  6875.762124\n",
            "166  39240.444020  39350.444020  6765.762124  6875.762124\n",
            "167  39440.444020  39550.444020  6765.762124  6875.762124\n",
            "168  39640.444020  39750.444020  6765.762124  6875.762124\n",
            "\n",
            "[169 rows x 4 columns]\n"
          ]
        }
      ]
    },
    {
      "cell_type": "markdown",
      "source": [
        "Finding subfields"
      ],
      "metadata": {
        "id": "lPVw5HwVDNrf"
      }
    },
    {
      "cell_type": "code",
      "source": [
        "subfields = pd.DataFrame(columns=[\"Xmin\", \"Xmax\", \"Ymin\", \"Ymax\", \"Main Field ID\"])\n",
        "subfields.index.name = 'ID'\n",
        "temp_df_list = []\n",
        "cnt=0\n",
        "for x in range(0, len(careAreas)):\n",
        "  pos=\"Ymin\"\n",
        "  y=careAreas.at[x, pos]\n",
        "  while y<=careAreas.at[x, \"Ymax\"]:\n",
        "    z=careAreas.at[x, \"Xmin\"]\n",
        "    while z<=careAreas.at[x, \"Xmax\"]:\n",
        "      #df=pd.DataFrame({\"Xmin\":z, \"Xmax\":z+subfield_sizes[0], \"Ymin\":y, \"Ymax\":y+subfield_sizes[0], \"Main Field ID\":x}, index=cnt)\n",
        "      temp_df_list.append({\"ID\":cnt, \"Xmin\":z, \"Xmax\":z+subfield_sizes[0], \"Ymin\":y, \"Ymax\":y+subfield_sizes[0], \"Main Field ID\":x})\n",
        "      #cnt+=1\n",
        "      cnt+=1\n",
        "subfields = pd.concat([subfields, pd.DataFrame(temp_df_list)], ignore_index=True)\n",
        "print(subfields)\n",
        "\n",
        "\n",
        "\n"
      ],
      "metadata": {
        "colab": {
          "base_uri": "https://localhost:8080/",
          "height": 245
        },
        "outputId": "614ee7bb-78be-469f-ad8a-f72e93fe2ed2",
        "id": "Gt8bcI5rO0xO"
      },
      "execution_count": null,
      "outputs": [
        {
          "output_type": "error",
          "ename": "KeyboardInterrupt",
          "evalue": "",
          "traceback": [
            "\u001b[0;31m---------------------------------------------------------------------------\u001b[0m",
            "\u001b[0;31mKeyboardInterrupt\u001b[0m                         Traceback (most recent call last)",
            "\u001b[0;32m<ipython-input-9-77615221b7a4>\u001b[0m in \u001b[0;36m<cell line: 5>\u001b[0;34m()\u001b[0m\n\u001b[1;32m      8\u001b[0m   \u001b[0;32mwhile\u001b[0m \u001b[0my\u001b[0m\u001b[0;34m<=\u001b[0m\u001b[0mcareAreas\u001b[0m\u001b[0;34m.\u001b[0m\u001b[0mat\u001b[0m\u001b[0;34m[\u001b[0m\u001b[0mx\u001b[0m\u001b[0;34m,\u001b[0m \u001b[0;34m\"Ymax\"\u001b[0m\u001b[0;34m]\u001b[0m\u001b[0;34m:\u001b[0m\u001b[0;34m\u001b[0m\u001b[0;34m\u001b[0m\u001b[0m\n\u001b[1;32m      9\u001b[0m     \u001b[0mz\u001b[0m\u001b[0;34m=\u001b[0m\u001b[0mcareAreas\u001b[0m\u001b[0;34m.\u001b[0m\u001b[0mat\u001b[0m\u001b[0;34m[\u001b[0m\u001b[0mx\u001b[0m\u001b[0;34m,\u001b[0m \u001b[0;34m\"Xmin\"\u001b[0m\u001b[0;34m]\u001b[0m\u001b[0;34m\u001b[0m\u001b[0;34m\u001b[0m\u001b[0m\n\u001b[0;32m---> 10\u001b[0;31m     \u001b[0;32mwhile\u001b[0m \u001b[0mz\u001b[0m\u001b[0;34m<=\u001b[0m\u001b[0mcareAreas\u001b[0m\u001b[0;34m.\u001b[0m\u001b[0mat\u001b[0m\u001b[0;34m[\u001b[0m\u001b[0mx\u001b[0m\u001b[0;34m,\u001b[0m \u001b[0;34m\"Xmax\"\u001b[0m\u001b[0;34m]\u001b[0m\u001b[0;34m:\u001b[0m\u001b[0;34m\u001b[0m\u001b[0;34m\u001b[0m\u001b[0m\n\u001b[0m\u001b[1;32m     11\u001b[0m       \u001b[0;31m#df=pd.DataFrame({\"Xmin\":z, \"Xmax\":z+subfield_sizes[0], \"Ymin\":y, \"Ymax\":y+subfield_sizes[0], \"Main Field ID\":x}, index=cnt)\u001b[0m\u001b[0;34m\u001b[0m\u001b[0;34m\u001b[0m\u001b[0m\n\u001b[1;32m     12\u001b[0m       \u001b[0mtemp_df_list\u001b[0m\u001b[0;34m.\u001b[0m\u001b[0mappend\u001b[0m\u001b[0;34m(\u001b[0m\u001b[0;34m{\u001b[0m\u001b[0;34m\"ID\"\u001b[0m\u001b[0;34m:\u001b[0m\u001b[0mcnt\u001b[0m\u001b[0;34m,\u001b[0m \u001b[0;34m\"Xmin\"\u001b[0m\u001b[0;34m:\u001b[0m\u001b[0mz\u001b[0m\u001b[0;34m,\u001b[0m \u001b[0;34m\"Xmax\"\u001b[0m\u001b[0;34m:\u001b[0m\u001b[0mz\u001b[0m\u001b[0;34m+\u001b[0m\u001b[0msubfield_sizes\u001b[0m\u001b[0;34m[\u001b[0m\u001b[0;36m0\u001b[0m\u001b[0;34m]\u001b[0m\u001b[0;34m,\u001b[0m \u001b[0;34m\"Ymin\"\u001b[0m\u001b[0;34m:\u001b[0m\u001b[0my\u001b[0m\u001b[0;34m,\u001b[0m \u001b[0;34m\"Ymax\"\u001b[0m\u001b[0;34m:\u001b[0m\u001b[0my\u001b[0m\u001b[0;34m+\u001b[0m\u001b[0msubfield_sizes\u001b[0m\u001b[0;34m[\u001b[0m\u001b[0;36m0\u001b[0m\u001b[0;34m]\u001b[0m\u001b[0;34m,\u001b[0m \u001b[0;34m\"Main Field ID\"\u001b[0m\u001b[0;34m:\u001b[0m\u001b[0mx\u001b[0m\u001b[0;34m}\u001b[0m\u001b[0;34m)\u001b[0m\u001b[0;34m\u001b[0m\u001b[0;34m\u001b[0m\u001b[0m\n",
            "\u001b[0;31mKeyboardInterrupt\u001b[0m: "
          ]
        }
      ]
    },
    {
      "cell_type": "code",
      "source": [
        "import numpy as np\n",
        "subfields = pd.DataFrame(columns=[\"Xmin\", \"Xmax\", \"Ymin\", \"Ymax\", \"Main Field ID\"])\n",
        "subfields.index.name = 'ID'\n",
        "temp_df_list = []\n",
        "cnt=0\n",
        "for x in range(0, len(careAreas)):\n",
        "  for y in np.arange(careAreas.at[x, \"Ymin\"], careAreas.at[x, \"Ymax\"], subfield_sizes[0]):\n",
        "    for z in np.arange(careAreas.at[x, \"Xmin\"], careAreas.at[x, \"Xmax\"], subfield_sizes[0]):\n",
        "      #df=pd.DataFrame({\"Xmin\":z, \"Xmax\":z+subfield_sizes[0], \"Ymin\":y, \"Ymax\":y+subfield_sizes[0], \"Main Field ID\":x}, index=cnt)\n",
        "      temp_df_list.append({\"Xmin\":z, \"Xmax\":z+subfield_sizes[0], \"Ymin\":y, \"Ymax\":y+subfield_sizes[0], \"Main Field ID\":x})\n",
        "      #cnt+=1\n",
        "      cnt+=1\n",
        "subfields = pd.concat([subfields, pd.DataFrame(temp_df_list)], ignore_index=True)\n",
        "print(subfields)\n",
        "\n",
        "\n",
        "\n"
      ],
      "metadata": {
        "colab": {
          "base_uri": "https://localhost:8080/"
        },
        "outputId": "1628ef9b-d57c-45bd-db1d-6a142f09b45a",
        "id": "h2Wbr2fMe7Qd"
      },
      "execution_count": null,
      "outputs": [
        {
          "output_type": "stream",
          "name": "stdout",
          "text": [
            "               Xmin          Xmax         Ymin         Ymax Main Field ID\n",
            "0       6040.444017   6045.564017  6765.762124  6770.882124             0\n",
            "1       6045.564017   6050.684017  6765.762124  6770.882124             0\n",
            "2       6050.684017   6055.804017  6765.762124  6770.882124             0\n",
            "3       6055.804017   6060.924017  6765.762124  6770.882124             0\n",
            "4       6060.924017   6066.044017  6765.762124  6770.882124             0\n",
            "...             ...           ...          ...          ...           ...\n",
            "67595  39717.244020  39722.364020  6863.042124  6868.162124           168\n",
            "67596  39722.364020  39727.484020  6863.042124  6868.162124           168\n",
            "67597  39727.484020  39732.604020  6863.042124  6868.162124           168\n",
            "67598  39732.604020  39737.724020  6863.042124  6868.162124           168\n",
            "67599  39737.724020  39742.844020  6863.042124  6868.162124           168\n",
            "\n",
            "[67600 rows x 5 columns]\n"
          ]
        },
        {
          "output_type": "stream",
          "name": "stderr",
          "text": [
            "<ipython-input-13-12b1d0601883>:13: FutureWarning: The behavior of DataFrame concatenation with empty or all-NA entries is deprecated. In a future version, this will no longer exclude empty or all-NA columns when determining the result dtypes. To retain the old behavior, exclude the relevant entries before the concat operation.\n",
            "  subfields = pd.concat([subfields, pd.DataFrame(temp_df_list)], ignore_index=True)\n"
          ]
        }
      ]
    },
    {
      "cell_type": "code",
      "source": [
        "check = subfields[\"Main Field ID\"].count()"
      ],
      "metadata": {
        "id": "Ha-EKwC-eRKg"
      },
      "execution_count": null,
      "outputs": []
    },
    {
      "cell_type": "code",
      "source": [
        "mainfields.to_csv(path+'mainfields.csv')\n",
        "subfields.to_csv(path+'subfields.csv')"
      ],
      "metadata": {
        "id": "V-U_Ksccf97C"
      },
      "execution_count": null,
      "outputs": []
    },
    {
      "cell_type": "code",
      "source": [],
      "metadata": {
        "id": "LbN1-upxmPCJ"
      },
      "execution_count": null,
      "outputs": []
    }
  ]
}